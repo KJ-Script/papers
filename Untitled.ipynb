{
 "cells": [
  {
   "cell_type": "code",
   "execution_count": 1,
   "id": "d8a8b12a",
   "metadata": {},
   "outputs": [],
   "source": [
    "import torch\n",
    "import torch.nn as nn\n",
    "import torchvision\n",
    "import torchvision.transforms as transforms"
   ]
  },
  {
   "cell_type": "code",
   "execution_count": 6,
   "id": "74a2873d",
   "metadata": {},
   "outputs": [],
   "source": [
    "batch_size = 64\n",
    "num_classes = 10\n",
    "learning_rate = 0.001\n",
    "num_epochs = 10"
   ]
  },
  {
   "cell_type": "code",
   "execution_count": 7,
   "id": "53fab95f",
   "metadata": {},
   "outputs": [],
   "source": [
    "device = torch.device('cuda' if torch.cuda.is_available() else 'cpu')"
   ]
  },
  {
   "cell_type": "code",
   "execution_count": 8,
   "id": "4ae874c1",
   "metadata": {},
   "outputs": [],
   "source": [
    "    train_dataset = torchvision.datasets.MNIST(root = './data',\n",
    "                                               train = True,\n",
    "                                               transform = transforms.Compose([\n",
    "                                                      transforms.Resize((32,32)),\n",
    "                                                      transforms.ToTensor(),\n",
    "                                                      transforms.Normalize(mean = (0.1307,), std = (0.3081,))]),\n",
    "                                               download = True)\n",
    "    \n",
    "    \n",
    "    test_dataset = torchvision.datasets.MNIST(root = './data',\n",
    "                                              train = False,\n",
    "                                              transform = transforms.Compose([\n",
    "                                                      transforms.Resize((32,32)),\n",
    "                                                      transforms.ToTensor(),\n",
    "                                                      transforms.Normalize(mean = (0.1325,), std = (0.3105,))]),\n",
    "                                              download=True)\n",
    "    \n",
    "    \n",
    "    train_loader = torch.utils.data.DataLoader(dataset = train_dataset,\n",
    "                                               batch_size = batch_size,\n",
    "                                               shuffle = True)\n",
    "    \n",
    "    \n",
    "    test_loader = torch.utils.data.DataLoader(dataset = test_dataset,\n",
    "                                               batch_size = batch_size,\n",
    "                                               shuffle = True)"
   ]
  },
  {
   "cell_type": "code",
   "execution_count": 11,
   "id": "38ef630c",
   "metadata": {},
   "outputs": [],
   "source": [
    "class LeNet(nn.Module):\n",
    "        def __init__(self, num_classes):\n",
    "            super(ConvNeuralNet, self).__init__()\n",
    "            self.layer1 = nn.Sequential(\n",
    "                nn.Conv2d(1, 6, kernel_size=5, stride=1, padding=0),\n",
    "                nn.BatchNorm2d(6),\n",
    "                nn.ReLU(),\n",
    "                nn.MaxPool2d(kernel_size = 2, stride = 2))\n",
    "            self.layer2 = nn.Sequential(\n",
    "                nn.Conv2d(6, 16, kernel_size=5, stride=1, padding=0),\n",
    "                nn.BatchNorm2d(16),\n",
    "                nn.ReLU(),\n",
    "                nn.MaxPool2d(kernel_size = 2, stride = 2))\n",
    "            self.fc = nn.Linear(400, 120)\n",
    "            self.relu = nn.ReLU()\n",
    "            self.fc1 = nn.Linear(120, 84)\n",
    "            self.relu1 = nn.ReLU()\n",
    "            self.fc2 = nn.Linear(84, num_classes)\n",
    "            \n",
    "        def forward(self, x):\n",
    "            out = self.layer1(x)\n",
    "            out = self.layer2(out)\n",
    "            out = out.reshape(out.size(0), -1)\n",
    "            out = self.fc(out)\n",
    "            out = self.relu(out)\n",
    "            out = self.fc1(out)\n",
    "            out = self.relu1(out)\n",
    "            out = self.fc2(out)\n",
    "            return out"
   ]
  },
  {
   "cell_type": "code",
   "execution_count": 12,
   "id": "d9b3c54e",
   "metadata": {},
   "outputs": [
    {
     "ename": "NameError",
     "evalue": "name 'ConvNeuralNet' is not defined",
     "output_type": "error",
     "traceback": [
      "\u001b[1;31m---------------------------------------------------------------------------\u001b[0m",
      "\u001b[1;31mNameError\u001b[0m                                 Traceback (most recent call last)",
      "Cell \u001b[1;32mIn[12], line 1\u001b[0m\n\u001b[1;32m----> 1\u001b[0m model \u001b[38;5;241m=\u001b[39m \u001b[43mLeNet\u001b[49m\u001b[43m(\u001b[49m\u001b[43mnum_classes\u001b[49m\u001b[43m)\u001b[49m\u001b[38;5;241m.\u001b[39mto(device)\n\u001b[0;32m      3\u001b[0m \u001b[38;5;66;03m#Setting the loss function\u001b[39;00m\n\u001b[0;32m      4\u001b[0m cost \u001b[38;5;241m=\u001b[39m nn\u001b[38;5;241m.\u001b[39mCrossEntropyLoss()\n",
      "Cell \u001b[1;32mIn[11], line 3\u001b[0m, in \u001b[0;36mLeNet.__init__\u001b[1;34m(self, num_classes)\u001b[0m\n\u001b[0;32m      2\u001b[0m \u001b[38;5;28;01mdef\u001b[39;00m \u001b[38;5;21m__init__\u001b[39m(\u001b[38;5;28mself\u001b[39m, num_classes):\n\u001b[1;32m----> 3\u001b[0m     \u001b[38;5;28msuper\u001b[39m(\u001b[43mConvNeuralNet\u001b[49m, \u001b[38;5;28mself\u001b[39m)\u001b[38;5;241m.\u001b[39m\u001b[38;5;21m__init__\u001b[39m()\n\u001b[0;32m      4\u001b[0m     \u001b[38;5;28mself\u001b[39m\u001b[38;5;241m.\u001b[39mlayer1 \u001b[38;5;241m=\u001b[39m nn\u001b[38;5;241m.\u001b[39mSequential(\n\u001b[0;32m      5\u001b[0m         nn\u001b[38;5;241m.\u001b[39mConv2d(\u001b[38;5;241m1\u001b[39m, \u001b[38;5;241m6\u001b[39m, kernel_size\u001b[38;5;241m=\u001b[39m\u001b[38;5;241m5\u001b[39m, stride\u001b[38;5;241m=\u001b[39m\u001b[38;5;241m1\u001b[39m, padding\u001b[38;5;241m=\u001b[39m\u001b[38;5;241m0\u001b[39m),\n\u001b[0;32m      6\u001b[0m         nn\u001b[38;5;241m.\u001b[39mBatchNorm2d(\u001b[38;5;241m6\u001b[39m),\n\u001b[0;32m      7\u001b[0m         nn\u001b[38;5;241m.\u001b[39mReLU(),\n\u001b[0;32m      8\u001b[0m         nn\u001b[38;5;241m.\u001b[39mMaxPool2d(kernel_size \u001b[38;5;241m=\u001b[39m \u001b[38;5;241m2\u001b[39m, stride \u001b[38;5;241m=\u001b[39m \u001b[38;5;241m2\u001b[39m))\n\u001b[0;32m      9\u001b[0m     \u001b[38;5;28mself\u001b[39m\u001b[38;5;241m.\u001b[39mlayer2 \u001b[38;5;241m=\u001b[39m nn\u001b[38;5;241m.\u001b[39mSequential(\n\u001b[0;32m     10\u001b[0m         nn\u001b[38;5;241m.\u001b[39mConv2d(\u001b[38;5;241m6\u001b[39m, \u001b[38;5;241m16\u001b[39m, kernel_size\u001b[38;5;241m=\u001b[39m\u001b[38;5;241m5\u001b[39m, stride\u001b[38;5;241m=\u001b[39m\u001b[38;5;241m1\u001b[39m, padding\u001b[38;5;241m=\u001b[39m\u001b[38;5;241m0\u001b[39m),\n\u001b[0;32m     11\u001b[0m         nn\u001b[38;5;241m.\u001b[39mBatchNorm2d(\u001b[38;5;241m16\u001b[39m),\n\u001b[0;32m     12\u001b[0m         nn\u001b[38;5;241m.\u001b[39mReLU(),\n\u001b[0;32m     13\u001b[0m         nn\u001b[38;5;241m.\u001b[39mMaxPool2d(kernel_size \u001b[38;5;241m=\u001b[39m \u001b[38;5;241m2\u001b[39m, stride \u001b[38;5;241m=\u001b[39m \u001b[38;5;241m2\u001b[39m))\n",
      "\u001b[1;31mNameError\u001b[0m: name 'ConvNeuralNet' is not defined"
     ]
    }
   ],
   "source": [
    "    model = LeNet(num_classes).to(device)\n",
    "    \n",
    "    #Setting the loss function\n",
    "    cost = nn.CrossEntropyLoss()\n",
    "    \n",
    "    #Setting the optimizer with the model parameters and learning rate\n",
    "    optimizer = torch.optim.Adam(model.parameters(), lr=learning_rate)\n",
    "    \n",
    "    #this is defined to print how many steps are remaining when training\n",
    "    total_step = len(train_loader)"
   ]
  },
  {
   "cell_type": "code",
   "execution_count": null,
   "id": "c4cd924a",
   "metadata": {},
   "outputs": [],
   "source": []
  }
 ],
 "metadata": {
  "kernelspec": {
   "display_name": "Python 3 (ipykernel)",
   "language": "python",
   "name": "python3"
  },
  "language_info": {
   "codemirror_mode": {
    "name": "ipython",
    "version": 3
   },
   "file_extension": ".py",
   "mimetype": "text/x-python",
   "name": "python",
   "nbconvert_exporter": "python",
   "pygments_lexer": "ipython3",
   "version": "3.11.5"
  }
 },
 "nbformat": 4,
 "nbformat_minor": 5
}
