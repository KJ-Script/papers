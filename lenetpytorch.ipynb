{
 "cells": [
  {
   "cell_type": "code",
   "execution_count": 1,
   "id": "d8a8b12a",
   "metadata": {},
   "outputs": [],
   "source": [
    "import torch\n",
    "import torch.nn as nn\n",
    "import torchvision\n",
    "import torchvision.transforms as transforms"
   ]
  },
  {
   "cell_type": "code",
   "execution_count": 13,
   "id": "74a2873d",
   "metadata": {},
   "outputs": [],
   "source": [
    "batch = 64\n",
    "num_classes = 10\n",
    "learning_rate = 0.001\n",
    "epoch = 10"
   ]
  },
  {
   "cell_type": "code",
   "execution_count": 3,
   "id": "53fab95f",
   "metadata": {},
   "outputs": [],
   "source": [
    "device = torch.device('cuda' if torch.cuda.is_available() else 'cpu')"
   ]
  },
  {
   "cell_type": "code",
   "execution_count": 8,
   "id": "4ae874c1",
   "metadata": {},
   "outputs": [],
   "source": [
    "    train_dataset = torchvision.datasets.MNIST(root = './data',\n",
    "                                               train = True,\n",
    "                                               transform = transforms.Compose([\n",
    "                                                      transforms.Resize((32,32)),\n",
    "                                                      transforms.ToTensor(),\n",
    "                                                      transforms.Normalize(mean = (0.1307,), std = (0.3081,))]),\n",
    "                                               download = True)\n",
    "    \n",
    "    \n",
    "    test_dataset = torchvision.datasets.MNIST(root = './data',\n",
    "                                              train = False,\n",
    "                                              transform = transforms.Compose([\n",
    "                                                      transforms.Resize((32,32)),\n",
    "                                                      transforms.ToTensor(),\n",
    "                                                      transforms.Normalize(mean = (0.1325,), std = (0.3105,))]),\n",
    "                                              download=True)\n",
    "    \n",
    "    \n",
    "    train_loader = torch.utils.data.DataLoader(dataset = train_dataset,\n",
    "                                               batch_size = batch,\n",
    "                                               shuffle = True)\n",
    "    \n",
    "    \n",
    "    test_loader = torch.utils.data.DataLoader(dataset = test_dataset,\n",
    "                                               batch_size = batch,\n",
    "                                               shuffle = True)"
   ]
  },
  {
   "cell_type": "code",
   "execution_count": 9,
   "id": "38ef630c",
   "metadata": {},
   "outputs": [],
   "source": [
    "class LeNet(nn.Module):\n",
    "        def __init__(self, num_classes):\n",
    "            super(LeNet, self).__init__()\n",
    "            self.layer1 = nn.Sequential(\n",
    "                nn.Conv2d(1, 6, kernel_size=5, stride=1, padding=0),\n",
    "                nn.BatchNorm2d(6),\n",
    "                nn.ReLU(),\n",
    "                nn.MaxPool2d(kernel_size = 2, stride = 2))\n",
    "            self.layer2 = nn.Sequential(\n",
    "                nn.Conv2d(6, 16, kernel_size=5, stride=1, padding=0),\n",
    "                nn.BatchNorm2d(16),\n",
    "                nn.ReLU(),\n",
    "                nn.MaxPool2d(kernel_size = 2, stride = 2))\n",
    "            self.fc = nn.Linear(400, 120)\n",
    "            self.relu = nn.ReLU()\n",
    "            self.fc1 = nn.Linear(120, 84)\n",
    "            self.relu1 = nn.ReLU()\n",
    "            self.fc2 = nn.Linear(84, num_classes)\n",
    "            \n",
    "        def forward(self, x):\n",
    "            out = self.layer1(x)\n",
    "            out = self.layer2(out)\n",
    "            out = out.reshape(out.size(0), -1)\n",
    "            out = self.fc(out)\n",
    "            out = self.relu(out)\n",
    "            out = self.fc1(out)\n",
    "            out = self.relu1(out)\n",
    "            out = self.fc2(out)\n",
    "            return out"
   ]
  },
  {
   "cell_type": "code",
   "execution_count": 11,
   "id": "d9b3c54e",
   "metadata": {},
   "outputs": [],
   "source": [
    "    model = LeNet(num_classes).to(device)\n",
    "    \n",
    "    #Setting the loss function\n",
    "    cost = nn.CrossEntropyLoss()\n",
    "    \n",
    "    #Setting the optimizer with the model parameters and learning rate\n",
    "    optimizer = torch.optim.Adam(model.parameters(), lr=learning_rate)\n",
    "    \n",
    "    #this is defined to print how many steps are remaining when training\n",
    "    total_step = len(train_loader)"
   ]
  },
  {
   "cell_type": "code",
   "execution_count": 14,
   "id": "39bf50d5",
   "metadata": {},
   "outputs": [
    {
     "name": "stdout",
     "output_type": "stream",
     "text": [
      "Epoch [1/10], Step [400/938], Loss: 0.1276\n",
      "Epoch [1/10], Step [800/938], Loss: 0.0520\n",
      "Epoch [2/10], Step [400/938], Loss: 0.1094\n",
      "Epoch [2/10], Step [800/938], Loss: 0.1610\n",
      "Epoch [3/10], Step [400/938], Loss: 0.0155\n",
      "Epoch [3/10], Step [800/938], Loss: 0.0526\n",
      "Epoch [4/10], Step [400/938], Loss: 0.0160\n",
      "Epoch [4/10], Step [800/938], Loss: 0.0263\n",
      "Epoch [5/10], Step [400/938], Loss: 0.0825\n",
      "Epoch [5/10], Step [800/938], Loss: 0.1245\n",
      "Epoch [6/10], Step [400/938], Loss: 0.0140\n",
      "Epoch [6/10], Step [800/938], Loss: 0.0908\n",
      "Epoch [7/10], Step [400/938], Loss: 0.0013\n",
      "Epoch [7/10], Step [800/938], Loss: 0.0244\n",
      "Epoch [8/10], Step [400/938], Loss: 0.0037\n",
      "Epoch [8/10], Step [800/938], Loss: 0.0004\n",
      "Epoch [9/10], Step [400/938], Loss: 0.0006\n",
      "Epoch [9/10], Step [800/938], Loss: 0.0007\n",
      "Epoch [10/10], Step [400/938], Loss: 0.1925\n",
      "Epoch [10/10], Step [800/938], Loss: 0.0001\n"
     ]
    }
   ],
   "source": [
    "    total_step = len(train_loader)\n",
    "    for x in range(epoch):\n",
    "        for i, (images, labels) in enumerate(train_loader):  \n",
    "            images = images.to(device)\n",
    "            labels = labels.to(device)\n",
    "            \n",
    "            #Forward pass\n",
    "            outputs = model(images)\n",
    "            loss = cost(outputs, labels)\n",
    "            #Backward and optimize\n",
    "            optimizer.zero_grad()\n",
    "            loss.backward()\n",
    "            optimizer.step()\n",
    "            if (i+1) % 400 == 0:\n",
    "                print ('Epoch [{}/{}], Step [{}/{}], Loss: {:.4f}' \n",
    ".format(x+1, epoch, i+1, total_step, loss.item()))"
   ]
  },
  {
   "cell_type": "code",
   "execution_count": 20,
   "id": "9dd013f7",
   "metadata": {},
   "outputs": [
    {
     "name": "stdout",
     "output_type": "stream",
     "text": [
      "Accuracy of the network on the 10000 test images: 99.08 %\n"
     ]
    }
   ],
   "source": [
    "# Test the model\n",
    "      \n",
    "with torch.no_grad():\n",
    "    correct = 0\n",
    "    total = 0\n",
    "    \n",
    "for images, labels in test_loader:\n",
    "        images = images.to(device)\n",
    "        labels = labels.to(device)\n",
    "        outputs = model(images)\n",
    "        _, predicted = torch.max(outputs.data, 1)\n",
    "        total += labels.size(0)\n",
    "        correct += (predicted == labels).sum().item()\n",
    "        \n",
    "print('Accuracy of the network on the 10000 test images: {} %'.format(100 * correct / total))"
   ]
  },
  {
   "cell_type": "code",
   "execution_count": null,
   "id": "ae923ef2",
   "metadata": {},
   "outputs": [],
   "source": []
  }
 ],
 "metadata": {
  "kernelspec": {
   "display_name": "Python 3 (ipykernel)",
   "language": "python",
   "name": "python3"
  },
  "language_info": {
   "codemirror_mode": {
    "name": "ipython",
    "version": 3
   },
   "file_extension": ".py",
   "mimetype": "text/x-python",
   "name": "python",
   "nbconvert_exporter": "python",
   "pygments_lexer": "ipython3",
   "version": "3.11.5"
  }
 },
 "nbformat": 4,
 "nbformat_minor": 5
}
